{
 "metadata": {
  "language_info": {
   "codemirror_mode": {
    "name": "ipython",
    "version": 3
   },
   "file_extension": ".py",
   "mimetype": "text/x-python",
   "name": "python",
   "nbconvert_exporter": "python",
   "pygments_lexer": "ipython3",
   "version": "3.8.6-candidate"
  },
  "orig_nbformat": 2,
  "kernelspec": {
   "name": "Python 3.8.6 64-bit",
   "display_name": "Python 3.8.6 64-bit",
   "metadata": {
    "interpreter": {
     "hash": "26ad47391f0ccec600b99d0ce4f69c85c7848d31f932edd46e207a47ebc413dc"
    }
   }
  }
 },
 "nbformat": 4,
 "nbformat_minor": 2,
 "cells": [
  {
   "source": [
    "# Preços de Imóveis em São Paulo\n",
    "Neste notebook irei treinar um modelo para fazer a previsão do proço de venda para imóveis em São Paulo, entretanto o objetivo final é fazer o deploy de um modelo para fazer a alimenação de uma aplicação web.\n",
    "\n",
    "Como o objetivo é fazer é focar na construção de um webapp  e os passos para subir uma aplicação, a etapa de análise exploratória de dados foi propositalmente suprimida.\n",
    "\n",
    "Adiante iremos ver como exportar e importar o modelo usando a biblioteca 'joblib'."
   ],
   "cell_type": "markdown",
   "metadata": {}
  },
  {
   "source": [
    "## Dados dos imóveis\n",
    "\n",
    "Os dados que serão utilizados no desenvolvimento foram obtidos nesse [link](https://www.kaggle.com/argonalyst/sao-paulo-real-estate-sale-rent-april-2019) e disponibilizados publicamente pela startup OpenImob.\n",
    "\n",
    "Para caminharmos direto ao objeto desse notebook irei utilizar os dados já [limpos](https://www.dropbox.com/s/h8blgaphkfpqsn5/sao-paulo-properties-april-2019.csv?dl=1) pelo [Carlos Melo](http://www.sigmoidal.ai).\n",
    "\n"
   ],
   "cell_type": "markdown",
   "metadata": {}
  },
  {
   "cell_type": "code",
   "execution_count": 1,
   "metadata": {},
   "outputs": [],
   "source": [
    "#importando bibliotecas necessárias\n",
    "import pandas as pd\n",
    "import numpy as np\n",
    "import matplotlib.pyplot as plt\n"
   ]
  },
  {
   "cell_type": "code",
   "execution_count": 2,
   "metadata": {},
   "outputs": [],
   "source": [
    "#importar o dataset\n",
    "#o download do arquivo foi feito previamente pelo link apontado.\n",
    "file = \"files\\sao-paulo-properties-april-2019.csv\"\n",
    "df = pd.read_csv(file)"
   ]
  },
  {
   "cell_type": "code",
   "execution_count": 3,
   "metadata": {},
   "outputs": [
    {
     "output_type": "execute_result",
     "data": {
      "text/plain": [
       "   Price  Condo  Size  Rooms  Toilets  Suites  Parking  Elevator  Furnished  \\\n",
       "0    930    220    47      2        2       1        1         0          0   \n",
       "1   1000    148    45      2        2       1        1         0          0   \n",
       "2   1000    100    48      2        2       1        1         0          0   \n",
       "3   1000    200    48      2        2       1        1         0          0   \n",
       "4   1300    410    55      2        2       1        1         1          0   \n",
       "\n",
       "   Swimming Pool  New               District Negotiation Type Property Type  \\\n",
       "0              0    0  Artur Alvim/São Paulo             rent     apartment   \n",
       "1              0    0  Artur Alvim/São Paulo             rent     apartment   \n",
       "2              0    0  Artur Alvim/São Paulo             rent     apartment   \n",
       "3              0    0  Artur Alvim/São Paulo             rent     apartment   \n",
       "4              0    0  Artur Alvim/São Paulo             rent     apartment   \n",
       "\n",
       "    Latitude  Longitude  \n",
       "0 -23.543138 -46.479486  \n",
       "1 -23.550239 -46.480718  \n",
       "2 -23.542818 -46.485665  \n",
       "3 -23.547171 -46.483014  \n",
       "4 -23.525025 -46.482436  "
      ],
      "text/html": "<div>\n<style scoped>\n    .dataframe tbody tr th:only-of-type {\n        vertical-align: middle;\n    }\n\n    .dataframe tbody tr th {\n        vertical-align: top;\n    }\n\n    .dataframe thead th {\n        text-align: right;\n    }\n</style>\n<table border=\"1\" class=\"dataframe\">\n  <thead>\n    <tr style=\"text-align: right;\">\n      <th></th>\n      <th>Price</th>\n      <th>Condo</th>\n      <th>Size</th>\n      <th>Rooms</th>\n      <th>Toilets</th>\n      <th>Suites</th>\n      <th>Parking</th>\n      <th>Elevator</th>\n      <th>Furnished</th>\n      <th>Swimming Pool</th>\n      <th>New</th>\n      <th>District</th>\n      <th>Negotiation Type</th>\n      <th>Property Type</th>\n      <th>Latitude</th>\n      <th>Longitude</th>\n    </tr>\n  </thead>\n  <tbody>\n    <tr>\n      <th>0</th>\n      <td>930</td>\n      <td>220</td>\n      <td>47</td>\n      <td>2</td>\n      <td>2</td>\n      <td>1</td>\n      <td>1</td>\n      <td>0</td>\n      <td>0</td>\n      <td>0</td>\n      <td>0</td>\n      <td>Artur Alvim/São Paulo</td>\n      <td>rent</td>\n      <td>apartment</td>\n      <td>-23.543138</td>\n      <td>-46.479486</td>\n    </tr>\n    <tr>\n      <th>1</th>\n      <td>1000</td>\n      <td>148</td>\n      <td>45</td>\n      <td>2</td>\n      <td>2</td>\n      <td>1</td>\n      <td>1</td>\n      <td>0</td>\n      <td>0</td>\n      <td>0</td>\n      <td>0</td>\n      <td>Artur Alvim/São Paulo</td>\n      <td>rent</td>\n      <td>apartment</td>\n      <td>-23.550239</td>\n      <td>-46.480718</td>\n    </tr>\n    <tr>\n      <th>2</th>\n      <td>1000</td>\n      <td>100</td>\n      <td>48</td>\n      <td>2</td>\n      <td>2</td>\n      <td>1</td>\n      <td>1</td>\n      <td>0</td>\n      <td>0</td>\n      <td>0</td>\n      <td>0</td>\n      <td>Artur Alvim/São Paulo</td>\n      <td>rent</td>\n      <td>apartment</td>\n      <td>-23.542818</td>\n      <td>-46.485665</td>\n    </tr>\n    <tr>\n      <th>3</th>\n      <td>1000</td>\n      <td>200</td>\n      <td>48</td>\n      <td>2</td>\n      <td>2</td>\n      <td>1</td>\n      <td>1</td>\n      <td>0</td>\n      <td>0</td>\n      <td>0</td>\n      <td>0</td>\n      <td>Artur Alvim/São Paulo</td>\n      <td>rent</td>\n      <td>apartment</td>\n      <td>-23.547171</td>\n      <td>-46.483014</td>\n    </tr>\n    <tr>\n      <th>4</th>\n      <td>1300</td>\n      <td>410</td>\n      <td>55</td>\n      <td>2</td>\n      <td>2</td>\n      <td>1</td>\n      <td>1</td>\n      <td>1</td>\n      <td>0</td>\n      <td>0</td>\n      <td>0</td>\n      <td>Artur Alvim/São Paulo</td>\n      <td>rent</td>\n      <td>apartment</td>\n      <td>-23.525025</td>\n      <td>-46.482436</td>\n    </tr>\n  </tbody>\n</table>\n</div>"
     },
     "metadata": {},
     "execution_count": 3
    }
   ],
   "source": [
    "df.head()\n"
   ]
  },
  {
   "source": [
    "Repare que há informações desnecessária, como por exemplo na variável 'District' há o nome do bairro e depois a cidade *São Paulo*."
   ],
   "cell_type": "markdown",
   "metadata": {}
  },
  {
   "cell_type": "code",
   "execution_count": 4,
   "metadata": {},
   "outputs": [
    {
     "output_type": "execute_result",
     "data": {
      "text/plain": [
       "   Price  Condo  Size  Rooms  Toilets  Suites  Parking  Elevator  Furnished  \\\n",
       "0    930    220    47      2        2       1        1         0          0   \n",
       "1   1000    148    45      2        2       1        1         0          0   \n",
       "2   1000    100    48      2        2       1        1         0          0   \n",
       "3   1000    200    48      2        2       1        1         0          0   \n",
       "4   1300    410    55      2        2       1        1         1          0   \n",
       "\n",
       "   Swimming Pool  New     District Negotiation Type Property Type   Latitude  \\\n",
       "0              0    0  Artur Alvim             rent     apartment -23.543138   \n",
       "1              0    0  Artur Alvim             rent     apartment -23.550239   \n",
       "2              0    0  Artur Alvim             rent     apartment -23.542818   \n",
       "3              0    0  Artur Alvim             rent     apartment -23.547171   \n",
       "4              0    0  Artur Alvim             rent     apartment -23.525025   \n",
       "\n",
       "   Longitude  \n",
       "0 -46.479486  \n",
       "1 -46.480718  \n",
       "2 -46.485665  \n",
       "3 -46.483014  \n",
       "4 -46.482436  "
      ],
      "text/html": "<div>\n<style scoped>\n    .dataframe tbody tr th:only-of-type {\n        vertical-align: middle;\n    }\n\n    .dataframe tbody tr th {\n        vertical-align: top;\n    }\n\n    .dataframe thead th {\n        text-align: right;\n    }\n</style>\n<table border=\"1\" class=\"dataframe\">\n  <thead>\n    <tr style=\"text-align: right;\">\n      <th></th>\n      <th>Price</th>\n      <th>Condo</th>\n      <th>Size</th>\n      <th>Rooms</th>\n      <th>Toilets</th>\n      <th>Suites</th>\n      <th>Parking</th>\n      <th>Elevator</th>\n      <th>Furnished</th>\n      <th>Swimming Pool</th>\n      <th>New</th>\n      <th>District</th>\n      <th>Negotiation Type</th>\n      <th>Property Type</th>\n      <th>Latitude</th>\n      <th>Longitude</th>\n    </tr>\n  </thead>\n  <tbody>\n    <tr>\n      <th>0</th>\n      <td>930</td>\n      <td>220</td>\n      <td>47</td>\n      <td>2</td>\n      <td>2</td>\n      <td>1</td>\n      <td>1</td>\n      <td>0</td>\n      <td>0</td>\n      <td>0</td>\n      <td>0</td>\n      <td>Artur Alvim</td>\n      <td>rent</td>\n      <td>apartment</td>\n      <td>-23.543138</td>\n      <td>-46.479486</td>\n    </tr>\n    <tr>\n      <th>1</th>\n      <td>1000</td>\n      <td>148</td>\n      <td>45</td>\n      <td>2</td>\n      <td>2</td>\n      <td>1</td>\n      <td>1</td>\n      <td>0</td>\n      <td>0</td>\n      <td>0</td>\n      <td>0</td>\n      <td>Artur Alvim</td>\n      <td>rent</td>\n      <td>apartment</td>\n      <td>-23.550239</td>\n      <td>-46.480718</td>\n    </tr>\n    <tr>\n      <th>2</th>\n      <td>1000</td>\n      <td>100</td>\n      <td>48</td>\n      <td>2</td>\n      <td>2</td>\n      <td>1</td>\n      <td>1</td>\n      <td>0</td>\n      <td>0</td>\n      <td>0</td>\n      <td>0</td>\n      <td>Artur Alvim</td>\n      <td>rent</td>\n      <td>apartment</td>\n      <td>-23.542818</td>\n      <td>-46.485665</td>\n    </tr>\n    <tr>\n      <th>3</th>\n      <td>1000</td>\n      <td>200</td>\n      <td>48</td>\n      <td>2</td>\n      <td>2</td>\n      <td>1</td>\n      <td>1</td>\n      <td>0</td>\n      <td>0</td>\n      <td>0</td>\n      <td>0</td>\n      <td>Artur Alvim</td>\n      <td>rent</td>\n      <td>apartment</td>\n      <td>-23.547171</td>\n      <td>-46.483014</td>\n    </tr>\n    <tr>\n      <th>4</th>\n      <td>1300</td>\n      <td>410</td>\n      <td>55</td>\n      <td>2</td>\n      <td>2</td>\n      <td>1</td>\n      <td>1</td>\n      <td>1</td>\n      <td>0</td>\n      <td>0</td>\n      <td>0</td>\n      <td>Artur Alvim</td>\n      <td>rent</td>\n      <td>apartment</td>\n      <td>-23.525025</td>\n      <td>-46.482436</td>\n    </tr>\n  </tbody>\n</table>\n</div>"
     },
     "metadata": {},
     "execution_count": 4
    }
   ],
   "source": [
    "#removendo a informação desnecessária\n",
    "df_clean = df.copy()\n",
    "\n",
    "#limpando o nome da cidade\n",
    "df_clean['District'] = df_clean['District'].apply(lambda x: x.split('/')[0])\n",
    "\n",
    "df_clean.head()"
   ]
  },
  {
   "source": [
    "# Criando um modelo Ensemble de Machine Learning\n",
    "\n",
    "No próximo passo iremos instalar as dependências necessárias e criar um modelo de Machine Learning, mas por que usar apenas um modelo de machine learning, por que apenas uma forma de fazer previsão? Podemos utilizar o melhor de cada modelo e até combiná-los entre si.\n",
    "\n",
    "Caso tenha interesse em conhecer mais sobre o modelo Ensemble, pode começar pelo [post](https://mabittar.github.io/EnsembleMethod/) que eu publiquei."
   ],
   "cell_type": "markdown",
   "metadata": {}
  },
  {
   "cell_type": "code",
   "execution_count": 5,
   "metadata": {},
   "outputs": [
    {
     "output_type": "stream",
     "name": "stdout",
     "text": [
      "Requirement already satisfied: xgboost in .\\lib\\site-packages (1.2.1)\nRequirement already satisfied: sklearn in .\\lib\\site-packages (0.0)\nRequirement already satisfied: numpy in .\\lib\\site-packages (from xgboost) (1.19.4)\nRequirement already satisfied: scipy in .\\lib\\site-packages (from xgboost) (1.5.3)\nRequirement already satisfied: scikit-learn in .\\lib\\site-packages (from sklearn) (0.23.2)\nRequirement already satisfied: joblib>=0.11 in .\\lib\\site-packages (from scikit-learn->sklearn) (0.17.0)\nRequirement already satisfied: threadpoolctl>=2.0.0 in .\\lib\\site-packages (from scikit-learn->sklearn) (2.1.0)\n"
     ]
    }
   ],
   "source": [
    "!pip install xgboost sklearn"
   ]
  },
  {
   "cell_type": "code",
   "execution_count": 12,
   "metadata": {},
   "outputs": [],
   "source": [
    "# 1. importando as bibliotecas necessárias\n",
    "from sklearn.ensemble import RandomForestRegressor\n",
    "from sklearn.model_selection import train_test_split\n",
    "from sklearn.metrics import r2_score, mean_squared_error, mean_absolute_error"
   ]
  },
  {
   "cell_type": "code",
   "execution_count": 7,
   "metadata": {},
   "outputs": [],
   "source": [
    "#variáveis dummies\n",
    "df_clean = pd.get_dummies(df_clean)\n",
    "\n",
    "# 2.separando variáveis de x e y\n",
    "X = df_clean.drop('Price', axis=1)\n",
    "y = df_clean['Price']\n",
    "\n",
    "# 2.1 dividindo o dataset entre treino e teste\n",
    "X_train, X_test, y_train, y_test = train_test_split(X, y, test_size=0.3, random_state=42)"
   ]
  },
  {
   "cell_type": "code",
   "execution_count": 8,
   "metadata": {},
   "outputs": [
    {
     "output_type": "stream",
     "name": "stdout",
     "text": [
      "(9548, 111) (4092, 111) (9548,) (4092,)\n"
     ]
    }
   ],
   "source": [
    "print(X_train.shape, X_test.shape, y_train.shape, y_test.shape)"
   ]
  },
  {
   "cell_type": "code",
   "execution_count": 9,
   "metadata": {},
   "outputs": [],
   "source": [
    "# utilizando todos núcleos do processador\n",
    "import multiprocessing\n",
    "n_jobs = multiprocessing.cpu_count()-1"
   ]
  },
  {
   "cell_type": "code",
   "execution_count": 17,
   "metadata": {},
   "outputs": [
    {
     "output_type": "stream",
     "name": "stdout",
     "text": [
      "r2: \t0.9215\nMAE: \t46517.8792\nMSE: \t28610978800.6684\n"
     ]
    }
   ],
   "source": [
    "# 3. instanciando os modelo\n",
    "model = RandomForestRegressor(n_jobs = n_jobs, random_state=42)\n",
    "model.fit(X_train, y_train)\n",
    "\n",
    "# fazer as previsões em cima do dataset de teste\n",
    "y_pred = model.predict(X_test)\n",
    "\n",
    "# métricas de avaliação\n",
    "print(\"R2: \\t{:.4f}\".format(r2_score(y_test, y_pred)))\n",
    "print(\"MAE: \\t{:.4f}\".format(mean_absolute_error(y_test, y_pred)))\n",
    "print(\"MSE: \\t{:.4f}\".format(mean_squared_error(y_test, y_pred)))\n"
   ]
  },
  {
   "source": [
    "## Salvando o Modelo\n",
    "\n",
    "Agora que o nosso modelo está treinado e é capaz de realizar previsões iremos utilizar a biblioteca joblib para exportá-lo."
   ],
   "cell_type": "markdown",
   "metadata": {}
  },
  {
   "cell_type": "code",
   "execution_count": 18,
   "metadata": {},
   "outputs": [
    {
     "output_type": "execute_result",
     "data": {
      "text/plain": [
       "['model.joblib']"
      ]
     },
     "metadata": {},
     "execution_count": 18
    }
   ],
   "source": [
    "from joblib import dump, load\n",
    "\n",
    "dump(model, 'model.joblib') "
   ]
  },
  {
   "source": [
    "Uma vez que criamos nosso arquivo para exportar o modelo devemos também exportar as features (variáveis) que utilizamos para treiná-lo."
   ],
   "cell_type": "markdown",
   "metadata": {}
  },
  {
   "cell_type": "code",
   "execution_count": 20,
   "metadata": {},
   "outputs": [
    {
     "output_type": "execute_result",
     "data": {
      "text/plain": [
       "['features.names']"
      ]
     },
     "metadata": {},
     "execution_count": 20
    }
   ],
   "source": [
    "# salvando os nomes das features\n",
    "features = X_train.columns.values\n",
    "\n",
    "dump (features, 'features.names')"
   ]
  },
  {
   "source": [
    "## Carregando o modelo\n",
    "\n",
    "Agora que exportamos nosso modelo podemos também importá-lo, podemos ver nos próximas etapas.\n",
    "\n",
    "Irei aproveitar também para exportar os dados necessários para criarmos o arquivo json que irá alimentar a API."
   ],
   "cell_type": "markdown",
   "metadata": {}
  },
  {
   "cell_type": "code",
   "execution_count": 21,
   "metadata": {},
   "outputs": [
    {
     "output_type": "execute_result",
     "data": {
      "text/plain": [
       "sklearn.ensemble._forest.RandomForestRegressor"
      ]
     },
     "metadata": {},
     "execution_count": 21
    }
   ],
   "source": [
    "#importando o modelo\n",
    "novo_modelo = load('model.joblib')\n",
    "\n",
    "#verificando o tipo\n",
    "type(novo_modelo)"
   ]
  },
  {
   "cell_type": "code",
   "execution_count": 24,
   "metadata": {},
   "outputs": [],
   "source": [
    "import json\n",
    "#exportando os bairros\n",
    "json_object = json.dumps(dict(zip(X.columns.values, np.zeros(X.shape[0]).astype(int).tolist())), indent = 4)\n",
    "\n"
   ]
  },
  {
   "cell_type": "code",
   "execution_count": 29,
   "metadata": {},
   "outputs": [
    {
     "output_type": "execute_result",
     "data": {
      "text/plain": [
       "['bairros.joblib']"
      ]
     },
     "metadata": {},
     "execution_count": 29
    }
   ],
   "source": [
    "#Salvando o nome dos bairros em um arquivo txt\n",
    "#como esse arquivo foi desenvolvido diretamente no VSCode instalado no windows pt-br não preciso realizar  etapa para instalar os carecters acentuados\n",
    "bairros = [f.split(\"District_\")[1] for f in df_clean.columns if \"District_\" in f]\n",
    "\n",
    "dump(sorted(bairros), 'bairros.joblib')\n"
   ]
  },
  {
   "cell_type": "code",
   "execution_count": null,
   "metadata": {},
   "outputs": [],
   "source": []
  }
 ]
}